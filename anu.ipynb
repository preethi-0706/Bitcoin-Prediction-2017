{
  "nbformat": 4,
  "nbformat_minor": 0,
  "metadata": {
    "colab": {
      "provenance": []
    },
    "kernelspec": {
      "name": "python3",
      "display_name": "Python 3"
    },
    "language_info": {
      "name": "python"
    }
  },
  "cells": [
    {
      "cell_type": "code",
      "execution_count": 18,
      "metadata": {
        "colab": {
          "base_uri": "https://localhost:8080/"
        },
        "id": "Hk27-ub-yVet",
        "outputId": "c1787269-7636-4e40-ae06-edcd8748e4b2"
      },
      "outputs": [
        {
          "output_type": "stream",
          "name": "stdout",
          "text": [
            "              unix                 date   symbol      open      high  \\\n",
            "0       1514764740  2017-12-31 23:59:00  BTC/USD  13913.28  13913.28   \n",
            "1       1514764680  2017-12-31 23:58:00  BTC/USD  13913.26  13953.83   \n",
            "2       1514764620  2017-12-31 23:57:00  BTC/USD  13908.73  13913.26   \n",
            "3       1514764560  2017-12-31 23:56:00  BTC/USD  13827.00  13908.69   \n",
            "4       1514764500  2017-12-31 23:55:00  BTC/USD  13825.05  13825.05   \n",
            "...            ...                  ...      ...       ...       ...   \n",
            "525594  1483229100  2017-01-01 00:05:00  BTC/USD    966.43    966.43   \n",
            "525595  1483229040  2017-01-01 00:04:00  BTC/USD    966.37    966.37   \n",
            "525596  1483228980  2017-01-01 00:03:00  BTC/USD    966.37    966.37   \n",
            "525597  1483228920  2017-01-01 00:02:00  BTC/USD    966.16    966.37   \n",
            "525598  1483228860  2017-01-01 00:01:00  BTC/USD    966.34    966.34   \n",
            "\n",
            "             low     close  Volume BTC    Volume USD  \n",
            "0       13867.18  13880.00    0.591748   8213.456549  \n",
            "1       13884.69  13953.77    1.398784  19518.309658  \n",
            "2       13874.99  13913.26    0.775012  10782.944294  \n",
            "3       13827.00  13859.58    0.666459   9236.841134  \n",
            "4       13825.05  13825.05    0.065501    905.560130  \n",
            "...          ...       ...         ...           ...  \n",
            "525594    966.43    966.43    0.107000    103.408010  \n",
            "525595    966.37    966.37    0.000000      0.000000  \n",
            "525596    966.37    966.37    0.000000      0.000000  \n",
            "525597    966.16    966.37    8.087376   7815.397864  \n",
            "525598    966.34    966.34    7.610000   7353.847400  \n",
            "\n",
            "[525599 rows x 9 columns]\n"
          ]
        }
      ],
      "source": [
        "import pandas as pd\n",
        "d=pd.read_csv('/content/BTC-2017min.csv')\n",
        "d1=d.fillna(0)\n",
        "print(d)"
      ]
    },
    {
      "cell_type": "code",
      "source": [
        "x=d.iloc[:,4:7]\n",
        "y=d.iloc[:,7:9]\n",
        "print(x,'\\n',y)"
      ],
      "metadata": {
        "colab": {
          "base_uri": "https://localhost:8080/"
        },
        "id": "g4GSMpHR1-Cn",
        "outputId": "b70dfa87-d9a4-42ba-8e60-c4037fe2e407"
      },
      "execution_count": 19,
      "outputs": [
        {
          "output_type": "stream",
          "name": "stdout",
          "text": [
            "            high       low     close\n",
            "0       13913.28  13867.18  13880.00\n",
            "1       13953.83  13884.69  13953.77\n",
            "2       13913.26  13874.99  13913.26\n",
            "3       13908.69  13827.00  13859.58\n",
            "4       13825.05  13825.05  13825.05\n",
            "...          ...       ...       ...\n",
            "525594    966.43    966.43    966.43\n",
            "525595    966.37    966.37    966.37\n",
            "525596    966.37    966.37    966.37\n",
            "525597    966.37    966.16    966.37\n",
            "525598    966.34    966.34    966.34\n",
            "\n",
            "[525599 rows x 3 columns] \n",
            "         Volume BTC    Volume USD\n",
            "0         0.591748   8213.456549\n",
            "1         1.398784  19518.309658\n",
            "2         0.775012  10782.944294\n",
            "3         0.666459   9236.841134\n",
            "4         0.065501    905.560130\n",
            "...            ...           ...\n",
            "525594    0.107000    103.408010\n",
            "525595    0.000000      0.000000\n",
            "525596    0.000000      0.000000\n",
            "525597    8.087376   7815.397864\n",
            "525598    7.610000   7353.847400\n",
            "\n",
            "[525599 rows x 2 columns]\n"
          ]
        }
      ]
    },
    {
      "cell_type": "code",
      "source": [
        "from sklearn.model_selection import train_test_split                                                        \n",
        "X_train,x_test,y_train,y_test=train_test_split(x,y,test_size=0.15,random_state=2)\n",
        "print(X_train.shape)\n",
        "print(y_train.shape)\n",
        "print(x_test.shape)\n",
        "print(y_test.shape)"
      ],
      "metadata": {
        "colab": {
          "base_uri": "https://localhost:8080/"
        },
        "id": "B6XKSjYt2JaD",
        "outputId": "8dd23f02-e896-4c38-dd85-e1d794f2f42a"
      },
      "execution_count": 20,
      "outputs": [
        {
          "output_type": "stream",
          "name": "stdout",
          "text": [
            "(446759, 3)\n",
            "(446759, 2)\n",
            "(78840, 3)\n",
            "(78840, 2)\n"
          ]
        }
      ]
    },
    {
      "cell_type": "code",
      "source": [
        "import numpy as np\n",
        "from sklearn.metrics import mean_squared_error,r2_score \n",
        "from sklearn.linear_model import Lasso\n",
        "model_lasso= Lasso(alpha=0.01)\n",
        "model_lasso.fit(x,y) \n",
        "pred_train_lasso= model_lasso.predict(x_test)\n",
        "print(mean_absolute_error(y_test,pred_train_lasso))\n",
        "print(mean_squared_error(y_test,pred_train_lasso))"
      ],
      "metadata": {
        "colab": {
          "base_uri": "https://localhost:8080/"
        },
        "id": "0qcgLk7d2n7F",
        "outputId": "73605214-011a-4c63-ad9a-3cf9f5a04550"
      },
      "execution_count": 21,
      "outputs": [
        {
          "output_type": "stream",
          "name": "stderr",
          "text": [
            "/usr/local/lib/python3.8/dist-packages/sklearn/linear_model/_coordinate_descent.py:647: ConvergenceWarning: Objective did not converge. You might want to increase the number of iterations, check the scale of the features or consider increasing regularisation. Duality gap: 1.126e+08, tolerance: 2.269e+04\n",
            "  model = cd_fast.enet_coordinate_descent(\n"
          ]
        },
        {
          "output_type": "stream",
          "name": "stdout",
          "text": [
            "20933.110551213005\n",
            "5569617997.346685\n"
          ]
        },
        {
          "output_type": "stream",
          "name": "stderr",
          "text": [
            "/usr/local/lib/python3.8/dist-packages/sklearn/linear_model/_coordinate_descent.py:647: ConvergenceWarning: Objective did not converge. You might want to increase the number of iterations, check the scale of the features or consider increasing regularisation. Duality gap: 2.965e+15, tolerance: 7.240e+11\n",
            "  model = cd_fast.enet_coordinate_descent(\n"
          ]
        }
      ]
    },
    {
      "cell_type": "code",
      "source": [
        "from sklearn.linear_model import Ridge \n",
        "rr= Ridge(alpha=0.01)\n",
        "rr.fit(X_train, y_train) \n",
        "pred_train_rr= rr.predict(X_train)\n",
        "print(np.sqrt(mean_squared_error(y_train,pred_train_rr)))\n",
        "print(r2_score(y_train, pred_train_rr))\n"
      ],
      "metadata": {
        "colab": {
          "base_uri": "https://localhost:8080/"
        },
        "id": "OnPrYMPp4pEF",
        "outputId": "339cceed-dcc7-4663-b5cb-83bb9113ce4a"
      },
      "execution_count": 22,
      "outputs": [
        {
          "output_type": "stream",
          "name": "stdout",
          "text": [
            "67333.1184134128\n",
            "0.2103625059379055\n"
          ]
        }
      ]
    },
    {
      "cell_type": "code",
      "source": [
        "from sklearn.linear_model import LinearRegression\n",
        "model = LinearRegression()\n",
        "model.fit(x, y)\n",
        "model = LinearRegression().fit(x, y)\n",
        "r_sq = model.score(x, y)\n",
        "print(f\"coefficient of determination: {r_sq}\")\n",
        "\n",
        "print(f\"intercept: {model.intercept_}\")\n",
        "\n",
        "print(f\"coefficients: {model.coef_}\")"
      ],
      "metadata": {
        "colab": {
          "base_uri": "https://localhost:8080/"
        },
        "id": "OXCBIi1_qHr-",
        "outputId": "5db80df4-46fe-4cc8-d8f6-dce83c3926fe"
      },
      "execution_count": 23,
      "outputs": [
        {
          "output_type": "stream",
          "name": "stdout",
          "text": [
            "coefficient of determination: 0.20932079679046722\n",
            "intercept: [   9.24126419 7740.75213114]\n",
            "coefficients: [[ 4.70600926e-01 -3.94780445e-01 -7.68166445e-02]\n",
            " [ 4.00825137e+03 -3.37861789e+03 -6.28952920e+02]]\n"
          ]
        }
      ]
    },
    {
      "cell_type": "code",
      "source": [
        "from sklearn import linear_model\n",
        "from sklearn.metrics import mean_squared_error,mean_absolute_error\n",
        "reg_all=linear_model.LinearRegression()\n",
        "reg_all.fit(X_train,y_train)\n",
        "y_pred=reg_all.predict(x_test)\n",
        "Rsquare=reg_all.score(x_test,y_test)\n",
        "print(\"Rsquare:\",Rsquare)\n",
        "print(\"Intercept:\",reg_all.intercept_)\n",
        "mse=mean_squared_error(y_test,y_pred)\n",
        "print(\"mse:\",mse)\n",
        "mae = mean_absolute_error(y_test,y_pred)\n",
        "print(\"mae:\",mae)"
      ],
      "metadata": {
        "colab": {
          "base_uri": "https://localhost:8080/"
        },
        "id": "3jgcd1sgq9uI",
        "outputId": "4a31434c-5dae-491b-c893-ba81758b9e69"
      },
      "execution_count": 24,
      "outputs": [
        {
          "output_type": "stream",
          "name": "stdout",
          "text": [
            "Rsquare: 0.20324621168246132\n",
            "Intercept: [   9.24499835 7818.7113351 ]\n",
            "mse: 4551535770.277261\n",
            "mae: 18262.972340200617\n"
          ]
        }
      ]
    }
  ]
}